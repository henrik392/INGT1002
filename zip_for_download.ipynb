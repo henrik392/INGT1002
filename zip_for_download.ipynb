{
 "cells": [
  {
   "cell_type": "code",
   "execution_count": 3,
   "metadata": {},
   "outputs": [
    {
     "name": "stdout",
     "output_type": "stream",
     "text": [
      "Adding file: ./ovinger/oving_2/oving_2.ipynb\n",
      "Adding file: ./ovinger/oving_2/ulike_typer_if-setninger.ipynb\n",
      "Adding file: ./ovinger/oving_2/logiske_uttrykk.ipynb\n",
      "Adding file: ./ovinger/oving_2/sammenligning_av_strenger.ipynb\n",
      "Adding file: ./ovinger/oving_2/andregradsligning.ipynb\n",
      "Adding file: ./ovinger/oving_2/billettpriser_og_rabatter.ipynb\n",
      "Adding file: ./ovinger/oving_2/betingede_funksjoner.ipynb\n",
      "Adding file: ./ovinger/oving_2/plotting.ipynb\n"
     ]
    }
   ],
   "source": [
    "# How to use this file:\n",
    "# 1. Copy the file and paste in your root folder (same level as shared)\n",
    "# 2. Update the value of src_path and filename (below) depending on what you want to zip\n",
    "# 3. Run the content of the cell\n",
    "\n",
    "task = 2\n",
    "\n",
    "src_path = f'ovinger/oving_{task}'\n",
    "filename = f'oving_{task}.zip'\n",
    "\n",
    "import glob\n",
    "import zipfile\n",
    "import os\n",
    "\n",
    "# Create target-folders if not exist:\n",
    "subfolder=filename.split('.')[0]\n",
    "target_path = \"./\"+src_path+\"/\"\n",
    "target_subfolder = target_path+subfolder\n",
    "\n",
    "# Check whether the specified path exists or not\n",
    "isPathExist = os.path.exists(target_path)\n",
    "\n",
    "if not isPathExist:\n",
    "   print(\"Directory do not exist!\")\n",
    "\n",
    "isTargetZipExist = os.path.exists(filename)\n",
    "if isTargetZipExist:\n",
    "    os.remove(filename)\n",
    "\n",
    "# zip files\n",
    "files = glob.glob(\"./\"+src_path+\"/*.*\")\n",
    "for file in files:\n",
    "    print('Adding file:',file)\n",
    "    \n",
    "    with zipfile.ZipFile(filename, mode=\"a\") as archive:\n",
    "        archive.write(file)"
   ]
  },
  {
   "cell_type": "code",
   "execution_count": null,
   "metadata": {},
   "outputs": [],
   "source": []
  }
 ],
 "metadata": {
  "kernelspec": {
   "display_name": "Python 3 (ipykernel)",
   "language": "python",
   "name": "python3"
  },
  "language_info": {
   "codemirror_mode": {
    "name": "ipython",
    "version": 3
   },
   "file_extension": ".py",
   "mimetype": "text/x-python",
   "name": "python",
   "nbconvert_exporter": "python",
   "pygments_lexer": "ipython3",
   "version": "3.11.5"
  }
 },
 "nbformat": 4,
 "nbformat_minor": 4
}
